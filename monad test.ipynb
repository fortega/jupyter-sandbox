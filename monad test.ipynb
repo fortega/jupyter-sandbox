{
 "cells": [
  {
   "cell_type": "code",
   "execution_count": 14,
   "id": "c94d8d88",
   "metadata": {},
   "outputs": [],
   "source": [
    "from pyspark.sql import SparkSession, DataFrame\n",
    "from typing import Callable\n",
    "import os"
   ]
  },
  {
   "cell_type": "markdown",
   "id": "d45e42f7",
   "metadata": {},
   "source": [
    "FP base"
   ]
  },
  {
   "cell_type": "code",
   "execution_count": 7,
   "id": "1cb20d17",
   "metadata": {},
   "outputs": [],
   "source": [
    "class Functor:\n",
    "    def map(self, func: Callable):\n",
    "        pass\n",
    "    \n",
    "    def __init__(self, value):\n",
    "        self.value = value\n"
   ]
  },
  {
   "cell_type": "code",
   "execution_count": 22,
   "id": "065bf944",
   "metadata": {},
   "outputs": [],
   "source": [
    "class Try(Functor):\n",
    "    def is_error(self):\n",
    "        return isinstance(self.value, Exception)\n",
    "    def map(self, func: Callable):\n",
    "        if self.is_error():\n",
    "            return self\n",
    "        else:\n",
    "            try:\n",
    "                result = func(self.value)\n",
    "            except Exception as e:\n",
    "                result = e\n",
    "            return Try(result)"
   ]
  },
  {
   "cell_type": "code",
   "execution_count": 23,
   "id": "f87c1133",
   "metadata": {},
   "outputs": [],
   "source": [
    "class SparkUtil:\n",
    "    def create_session() -> SparkSession:\n",
    "        is_cluster = os.environ.get(\"SPARK_ENV_LOAD\", \"0\") == 1\n",
    "        builder = SparkSession.builder if is_cluster else SparkSession.builder.master(\"local[*]\")\n",
    "        return Try(builder).map(lambda b: b.getOrCreate())"
   ]
  },
  {
   "cell_type": "code",
   "execution_count": 24,
   "id": "671c7603",
   "metadata": {},
   "outputs": [],
   "source": [
    "class Transform:\n",
    "    def apply(self, df: DataFrame) -> DataFrame:\n",
    "        pass\n",
    "    \n",
    "    def __call__(self, dataframe: DataFrame) -> DataFrame:\n",
    "        self.apply(dataframe)"
   ]
  },
  {
   "cell_type": "code",
   "execution_count": 25,
   "id": "7b08fecc",
   "metadata": {},
   "outputs": [],
   "source": [
    "class DataIO:\n",
    "    def read(self, spark: SparkSession) -> DataFrame:\n",
    "        pass\n",
    "    \n",
    "    def write(self, df: DataFrame):\n",
    "        pass\n",
    "\n",
    "\n",
    "class ParquetIO(DataIO):\n",
    "    def __init__(self, path: str):\n",
    "        self.path = path\n",
    "        \n",
    "    def read(self, spark: SparkSession) -> DataFrame:\n",
    "        return spark.read.parquet(self.path)\n",
    "\n",
    "    def write(self, df: DataFrame):\n",
    "        df.write.parquet(self.path)\n",
    "        \n",
    "        "
   ]
  },
  {
   "cell_type": "code",
   "execution_count": 26,
   "id": "87b7de10",
   "metadata": {},
   "outputs": [],
   "source": [
    "spark = SparkUtil.create_session()"
   ]
  },
  {
   "cell_type": "code",
   "execution_count": 27,
   "id": "bdf21f79",
   "metadata": {},
   "outputs": [
    {
     "data": {
      "text/plain": [
       "False"
      ]
     },
     "execution_count": 27,
     "metadata": {},
     "output_type": "execute_result"
    }
   ],
   "source": [
    "spark.is_error()"
   ]
  },
  {
   "cell_type": "code",
   "execution_count": null,
   "id": "2e3d1078",
   "metadata": {},
   "outputs": [],
   "source": []
  }
 ],
 "metadata": {
  "kernelspec": {
   "display_name": "Python 3 (ipykernel)",
   "language": "python",
   "name": "python3"
  },
  "language_info": {
   "codemirror_mode": {
    "name": "ipython",
    "version": 3
   },
   "file_extension": ".py",
   "mimetype": "text/x-python",
   "name": "python",
   "nbconvert_exporter": "python",
   "pygments_lexer": "ipython3",
   "version": "3.11.2"
  }
 },
 "nbformat": 4,
 "nbformat_minor": 5
}
